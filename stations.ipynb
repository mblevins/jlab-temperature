{
 "cells": [
  {
   "cell_type": "markdown",
   "metadata": {},
   "source": [
    "# stations notebook\n",
    "Read a noaa dataset and extract the stations into a kml file"
   ]
  },
  {
   "cell_type": "code",
   "execution_count": 1,
   "metadata": {},
   "outputs": [],
   "source": [
    "import pandas as pd\n",
    "import json\n",
    "import numpy as np\n",
    "import altair as alt\n",
    "from vega_datasets import data as vega_data"
   ]
  },
  {
   "cell_type": "code",
   "execution_count": 2,
   "metadata": {},
   "outputs": [],
   "source": [
    "df=pd.read_csv(\"./noaa-data-1.csv\")"
   ]
  },
  {
   "cell_type": "code",
   "execution_count": 3,
   "metadata": {},
   "outputs": [
    {
     "data": {
      "text/html": [
       "<div>\n",
       "<style scoped>\n",
       "    .dataframe tbody tr th:only-of-type {\n",
       "        vertical-align: middle;\n",
       "    }\n",
       "\n",
       "    .dataframe tbody tr th {\n",
       "        vertical-align: top;\n",
       "    }\n",
       "\n",
       "    .dataframe thead th {\n",
       "        text-align: right;\n",
       "    }\n",
       "</style>\n",
       "<table border=\"1\" class=\"dataframe\">\n",
       "  <thead>\n",
       "    <tr style=\"text-align: right;\">\n",
       "      <th></th>\n",
       "      <th>STATION</th>\n",
       "      <th>NAME</th>\n",
       "      <th>LATITUDE</th>\n",
       "      <th>LONGITUDE</th>\n",
       "      <th>ELEVATION</th>\n",
       "      <th>DATE</th>\n",
       "      <th>PRCP</th>\n",
       "      <th>PRCP_ATTRIBUTES</th>\n",
       "      <th>SNOW</th>\n",
       "      <th>SNOW_ATTRIBUTES</th>\n",
       "      <th>TAVG</th>\n",
       "      <th>TAVG_ATTRIBUTES</th>\n",
       "      <th>TMAX</th>\n",
       "      <th>TMAX_ATTRIBUTES</th>\n",
       "      <th>TMIN</th>\n",
       "      <th>TMIN_ATTRIBUTES</th>\n",
       "    </tr>\n",
       "  </thead>\n",
       "  <tbody>\n",
       "    <tr>\n",
       "      <th>0</th>\n",
       "      <td>US1CASZ0047</td>\n",
       "      <td>SANTA CRUZ 8.9 NW, CA US</td>\n",
       "      <td>37.06355</td>\n",
       "      <td>-122.1514</td>\n",
       "      <td>530.0</td>\n",
       "      <td>2017-11-19</td>\n",
       "      <td>0.0</td>\n",
       "      <td>,,N</td>\n",
       "      <td>0.0</td>\n",
       "      <td>,,N</td>\n",
       "      <td>NaN</td>\n",
       "      <td>NaN</td>\n",
       "      <td>NaN</td>\n",
       "      <td>NaN</td>\n",
       "      <td>NaN</td>\n",
       "      <td>NaN</td>\n",
       "    </tr>\n",
       "    <tr>\n",
       "      <th>1</th>\n",
       "      <td>US1CASZ0047</td>\n",
       "      <td>SANTA CRUZ 8.9 NW, CA US</td>\n",
       "      <td>37.06355</td>\n",
       "      <td>-122.1514</td>\n",
       "      <td>530.0</td>\n",
       "      <td>2017-11-20</td>\n",
       "      <td>0.0</td>\n",
       "      <td>,,N</td>\n",
       "      <td>0.0</td>\n",
       "      <td>,,N</td>\n",
       "      <td>NaN</td>\n",
       "      <td>NaN</td>\n",
       "      <td>NaN</td>\n",
       "      <td>NaN</td>\n",
       "      <td>NaN</td>\n",
       "      <td>NaN</td>\n",
       "    </tr>\n",
       "    <tr>\n",
       "      <th>2</th>\n",
       "      <td>US1CASZ0047</td>\n",
       "      <td>SANTA CRUZ 8.9 NW, CA US</td>\n",
       "      <td>37.06355</td>\n",
       "      <td>-122.1514</td>\n",
       "      <td>530.0</td>\n",
       "      <td>2017-11-21</td>\n",
       "      <td>0.0</td>\n",
       "      <td>,,N</td>\n",
       "      <td>0.0</td>\n",
       "      <td>,,N</td>\n",
       "      <td>NaN</td>\n",
       "      <td>NaN</td>\n",
       "      <td>NaN</td>\n",
       "      <td>NaN</td>\n",
       "      <td>NaN</td>\n",
       "      <td>NaN</td>\n",
       "    </tr>\n",
       "  </tbody>\n",
       "</table>\n",
       "</div>"
      ],
      "text/plain": [
       "       STATION                      NAME  LATITUDE  LONGITUDE  ELEVATION  \\\n",
       "0  US1CASZ0047  SANTA CRUZ 8.9 NW, CA US  37.06355  -122.1514      530.0   \n",
       "1  US1CASZ0047  SANTA CRUZ 8.9 NW, CA US  37.06355  -122.1514      530.0   \n",
       "2  US1CASZ0047  SANTA CRUZ 8.9 NW, CA US  37.06355  -122.1514      530.0   \n",
       "\n",
       "         DATE  PRCP PRCP_ATTRIBUTES  SNOW SNOW_ATTRIBUTES  TAVG  \\\n",
       "0  2017-11-19   0.0             ,,N   0.0             ,,N   NaN   \n",
       "1  2017-11-20   0.0             ,,N   0.0             ,,N   NaN   \n",
       "2  2017-11-21   0.0             ,,N   0.0             ,,N   NaN   \n",
       "\n",
       "  TAVG_ATTRIBUTES  TMAX TMAX_ATTRIBUTES  TMIN TMIN_ATTRIBUTES  \n",
       "0             NaN   NaN             NaN   NaN             NaN  \n",
       "1             NaN   NaN             NaN   NaN             NaN  \n",
       "2             NaN   NaN             NaN   NaN             NaN  "
      ]
     },
     "execution_count": 3,
     "metadata": {},
     "output_type": "execute_result"
    }
   ],
   "source": [
    "df.head(3)"
   ]
  },
  {
   "cell_type": "code",
   "execution_count": 4,
   "metadata": {},
   "outputs": [],
   "source": [
    "stations=df[\"STATION\"].unique()"
   ]
  },
  {
   "cell_type": "code",
   "execution_count": 5,
   "metadata": {},
   "outputs": [],
   "source": [
    "with open(\"stations.kml\",\"w\") as fp:\n",
    "    fp.write( '<?xml version=\"1.0\" encoding=\"UTF-8\"?>\\n')\n",
    "    fp.write( '<kml xmlns=\"http://www.opengis.net/kml/2.2\">\\n')\n",
    "    fp.write( '<Document>\\n')\n",
    "    for s in stations:\n",
    "        sdf=df.query('STATION == @s').iloc[0]\n",
    "        fp.write(\"  <Placemark>\\n\")\n",
    "        fp.write(f\"    <name>{sdf.STATION}</name>\\n\")\n",
    "        fp.write(f\"    <Point>\\n\" )\n",
    "        fp.write(f\"      <coordinates>{sdf.LONGITUDE},{sdf.LATITUDE},0</coordinates>\\n\" )\n",
    "        fp.write(f\"    </Point>\\n\" )\n",
    "        fp.write(\"  </Placemark>\\n\")\n",
    "    fp.write( '</Document>\\n')\n",
    "    fp.write( \"</kml>\\n\")"
   ]
  }
 ],
 "metadata": {
  "kernelspec": {
   "display_name": "Python 3",
   "language": "python",
   "name": "python3"
  },
  "language_info": {
   "codemirror_mode": {
    "name": "ipython",
    "version": 3
   },
   "file_extension": ".py",
   "mimetype": "text/x-python",
   "name": "python",
   "nbconvert_exporter": "python",
   "pygments_lexer": "ipython3",
   "version": "3.7.6"
  }
 },
 "nbformat": 4,
 "nbformat_minor": 4
}
